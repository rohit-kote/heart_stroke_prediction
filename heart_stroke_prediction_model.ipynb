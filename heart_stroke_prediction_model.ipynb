{
  "nbformat": 4,
  "nbformat_minor": 0,
  "metadata": {
    "colab": {
      "provenance": []
    },
    "kernelspec": {
      "name": "python3",
      "display_name": "Python 3"
    },
    "language_info": {
      "name": "python"
    }
  },
  "cells": [
    {
      "cell_type": "markdown",
      "metadata": {
        "id": "wMUJP8oIJv0k"
      },
      "source": [
        "# Common Imports"
      ]
    },
    {
      "cell_type": "code",
      "execution_count": null,
      "metadata": {
        "id": "Y4ImRFKWJy5s",
        "colab": {
          "base_uri": "https://localhost:8080/"
        },
        "outputId": "b700cae5-3398-4840-b12c-bad8da1409bb"
      },
      "outputs": [
        {
          "output_type": "stream",
          "name": "stdout",
          "text": [
            "Drive already mounted at /content/drive; to attempt to forcibly remount, call drive.mount(\"/content/drive\", force_remount=True).\n"
          ]
        }
      ],
      "source": [
        "import pandas as pd\n",
        "import numpy as np\n",
        "import math\n",
        "import os\n",
        "import seaborn as sns\n",
        "import matplotlib.pyplot as plt\n",
        "from scipy import linalg\n",
        "import matplotlib as mpl\n",
        "from sklearn.model_selection import train_test_split\n",
        "from sklearn.model_selection import StratifiedShuffleSplit\n",
        "from sklearn.metrics import mean_squared_error as mse\n",
        "from sklearn.metrics import accuracy_score as accuracy\n",
        "from sklearn.metrics import recall_score as sensitivity\n",
        "from sklearn.metrics import classification_report\n",
        "from sklearn.model_selection import cross_val_score\n",
        "from sklearn.metrics import confusion_matrix\n",
        "from sklearn import metrics\n",
        "from sklearn.preprocessing import LabelEncoder\n",
        "from statistics import mean\n",
        "import gc\n",
        "from scipy.linalg import eigh as eigen\n",
        "from sklearn.metrics import r2_score\n",
        "from sklearn.metrics import f1_score\n",
        "from collections import Counter\n",
        "from google.colab import drive\n",
        "import warnings\n",
        "warnings.filterwarnings('ignore')\n",
        "drive.mount('/content/drive')"
      ]
    },
    {
      "cell_type": "markdown",
      "source": [
        "# Data Importing and Preprocessing"
      ],
      "metadata": {
        "id": "NQ_hmRgP04Lk"
      }
    },
    {
      "cell_type": "code",
      "execution_count": null,
      "metadata": {
        "id": "I6ET5aCl2NeL"
      },
      "outputs": [],
      "source": [
        "from sklearn.preprocessing import LabelEncoder,StandardScaler\n",
        "lbcode=LabelEncoder()\n",
        "scalar=StandardScaler()"
      ]
    },
    {
      "cell_type": "code",
      "source": [
        "data=pd.read_csv('/content/drive/MyDrive/Colab Notebooks/PRML Major Project/healthcare-dataset-stroke-data.csv')"
      ],
      "metadata": {
        "id": "QzQ8hsApBnT-"
      },
      "execution_count": null,
      "outputs": []
    },
    {
      "cell_type": "code",
      "source": [
        "data"
      ],
      "metadata": {
        "colab": {
          "base_uri": "https://localhost:8080/",
          "height": 424
        },
        "id": "VbmYpajz028v",
        "outputId": "a9f3f506-d4fd-402e-9439-79feff599d3a"
      },
      "execution_count": null,
      "outputs": [
        {
          "output_type": "execute_result",
          "data": {
            "text/plain": [
              "         id  gender   age  hypertension  heart_disease ever_married  \\\n",
              "0      9046    Male  67.0             0              1          Yes   \n",
              "1     51676  Female  61.0             0              0          Yes   \n",
              "2     31112    Male  80.0             0              1          Yes   \n",
              "3     60182  Female  49.0             0              0          Yes   \n",
              "4      1665  Female  79.0             1              0          Yes   \n",
              "...     ...     ...   ...           ...            ...          ...   \n",
              "5105  18234  Female  80.0             1              0          Yes   \n",
              "5106  44873  Female  81.0             0              0          Yes   \n",
              "5107  19723  Female  35.0             0              0          Yes   \n",
              "5108  37544    Male  51.0             0              0          Yes   \n",
              "5109  44679  Female  44.0             0              0          Yes   \n",
              "\n",
              "          work_type Residence_type  avg_glucose_level   bmi   smoking_status  \\\n",
              "0           Private          Urban             228.69  36.6  formerly smoked   \n",
              "1     Self-employed          Rural             202.21   NaN     never smoked   \n",
              "2           Private          Rural             105.92  32.5     never smoked   \n",
              "3           Private          Urban             171.23  34.4           smokes   \n",
              "4     Self-employed          Rural             174.12  24.0     never smoked   \n",
              "...             ...            ...                ...   ...              ...   \n",
              "5105        Private          Urban              83.75   NaN     never smoked   \n",
              "5106  Self-employed          Urban             125.20  40.0     never smoked   \n",
              "5107  Self-employed          Rural              82.99  30.6     never smoked   \n",
              "5108        Private          Rural             166.29  25.6  formerly smoked   \n",
              "5109       Govt_job          Urban              85.28  26.2          Unknown   \n",
              "\n",
              "      stroke  \n",
              "0          1  \n",
              "1          1  \n",
              "2          1  \n",
              "3          1  \n",
              "4          1  \n",
              "...      ...  \n",
              "5105       0  \n",
              "5106       0  \n",
              "5107       0  \n",
              "5108       0  \n",
              "5109       0  \n",
              "\n",
              "[5110 rows x 12 columns]"
            ],
            "text/html": [
              "\n",
              "  <div id=\"df-6538a15d-7e79-4baa-8118-5b659a2463d1\">\n",
              "    <div class=\"colab-df-container\">\n",
              "      <div>\n",
              "<style scoped>\n",
              "    .dataframe tbody tr th:only-of-type {\n",
              "        vertical-align: middle;\n",
              "    }\n",
              "\n",
              "    .dataframe tbody tr th {\n",
              "        vertical-align: top;\n",
              "    }\n",
              "\n",
              "    .dataframe thead th {\n",
              "        text-align: right;\n",
              "    }\n",
              "</style>\n",
              "<table border=\"1\" class=\"dataframe\">\n",
              "  <thead>\n",
              "    <tr style=\"text-align: right;\">\n",
              "      <th></th>\n",
              "      <th>id</th>\n",
              "      <th>gender</th>\n",
              "      <th>age</th>\n",
              "      <th>hypertension</th>\n",
              "      <th>heart_disease</th>\n",
              "      <th>ever_married</th>\n",
              "      <th>work_type</th>\n",
              "      <th>Residence_type</th>\n",
              "      <th>avg_glucose_level</th>\n",
              "      <th>bmi</th>\n",
              "      <th>smoking_status</th>\n",
              "      <th>stroke</th>\n",
              "    </tr>\n",
              "  </thead>\n",
              "  <tbody>\n",
              "    <tr>\n",
              "      <th>0</th>\n",
              "      <td>9046</td>\n",
              "      <td>Male</td>\n",
              "      <td>67.0</td>\n",
              "      <td>0</td>\n",
              "      <td>1</td>\n",
              "      <td>Yes</td>\n",
              "      <td>Private</td>\n",
              "      <td>Urban</td>\n",
              "      <td>228.69</td>\n",
              "      <td>36.6</td>\n",
              "      <td>formerly smoked</td>\n",
              "      <td>1</td>\n",
              "    </tr>\n",
              "    <tr>\n",
              "      <th>1</th>\n",
              "      <td>51676</td>\n",
              "      <td>Female</td>\n",
              "      <td>61.0</td>\n",
              "      <td>0</td>\n",
              "      <td>0</td>\n",
              "      <td>Yes</td>\n",
              "      <td>Self-employed</td>\n",
              "      <td>Rural</td>\n",
              "      <td>202.21</td>\n",
              "      <td>NaN</td>\n",
              "      <td>never smoked</td>\n",
              "      <td>1</td>\n",
              "    </tr>\n",
              "    <tr>\n",
              "      <th>2</th>\n",
              "      <td>31112</td>\n",
              "      <td>Male</td>\n",
              "      <td>80.0</td>\n",
              "      <td>0</td>\n",
              "      <td>1</td>\n",
              "      <td>Yes</td>\n",
              "      <td>Private</td>\n",
              "      <td>Rural</td>\n",
              "      <td>105.92</td>\n",
              "      <td>32.5</td>\n",
              "      <td>never smoked</td>\n",
              "      <td>1</td>\n",
              "    </tr>\n",
              "    <tr>\n",
              "      <th>3</th>\n",
              "      <td>60182</td>\n",
              "      <td>Female</td>\n",
              "      <td>49.0</td>\n",
              "      <td>0</td>\n",
              "      <td>0</td>\n",
              "      <td>Yes</td>\n",
              "      <td>Private</td>\n",
              "      <td>Urban</td>\n",
              "      <td>171.23</td>\n",
              "      <td>34.4</td>\n",
              "      <td>smokes</td>\n",
              "      <td>1</td>\n",
              "    </tr>\n",
              "    <tr>\n",
              "      <th>4</th>\n",
              "      <td>1665</td>\n",
              "      <td>Female</td>\n",
              "      <td>79.0</td>\n",
              "      <td>1</td>\n",
              "      <td>0</td>\n",
              "      <td>Yes</td>\n",
              "      <td>Self-employed</td>\n",
              "      <td>Rural</td>\n",
              "      <td>174.12</td>\n",
              "      <td>24.0</td>\n",
              "      <td>never smoked</td>\n",
              "      <td>1</td>\n",
              "    </tr>\n",
              "    <tr>\n",
              "      <th>...</th>\n",
              "      <td>...</td>\n",
              "      <td>...</td>\n",
              "      <td>...</td>\n",
              "      <td>...</td>\n",
              "      <td>...</td>\n",
              "      <td>...</td>\n",
              "      <td>...</td>\n",
              "      <td>...</td>\n",
              "      <td>...</td>\n",
              "      <td>...</td>\n",
              "      <td>...</td>\n",
              "      <td>...</td>\n",
              "    </tr>\n",
              "    <tr>\n",
              "      <th>5105</th>\n",
              "      <td>18234</td>\n",
              "      <td>Female</td>\n",
              "      <td>80.0</td>\n",
              "      <td>1</td>\n",
              "      <td>0</td>\n",
              "      <td>Yes</td>\n",
              "      <td>Private</td>\n",
              "      <td>Urban</td>\n",
              "      <td>83.75</td>\n",
              "      <td>NaN</td>\n",
              "      <td>never smoked</td>\n",
              "      <td>0</td>\n",
              "    </tr>\n",
              "    <tr>\n",
              "      <th>5106</th>\n",
              "      <td>44873</td>\n",
              "      <td>Female</td>\n",
              "      <td>81.0</td>\n",
              "      <td>0</td>\n",
              "      <td>0</td>\n",
              "      <td>Yes</td>\n",
              "      <td>Self-employed</td>\n",
              "      <td>Urban</td>\n",
              "      <td>125.20</td>\n",
              "      <td>40.0</td>\n",
              "      <td>never smoked</td>\n",
              "      <td>0</td>\n",
              "    </tr>\n",
              "    <tr>\n",
              "      <th>5107</th>\n",
              "      <td>19723</td>\n",
              "      <td>Female</td>\n",
              "      <td>35.0</td>\n",
              "      <td>0</td>\n",
              "      <td>0</td>\n",
              "      <td>Yes</td>\n",
              "      <td>Self-employed</td>\n",
              "      <td>Rural</td>\n",
              "      <td>82.99</td>\n",
              "      <td>30.6</td>\n",
              "      <td>never smoked</td>\n",
              "      <td>0</td>\n",
              "    </tr>\n",
              "    <tr>\n",
              "      <th>5108</th>\n",
              "      <td>37544</td>\n",
              "      <td>Male</td>\n",
              "      <td>51.0</td>\n",
              "      <td>0</td>\n",
              "      <td>0</td>\n",
              "      <td>Yes</td>\n",
              "      <td>Private</td>\n",
              "      <td>Rural</td>\n",
              "      <td>166.29</td>\n",
              "      <td>25.6</td>\n",
              "      <td>formerly smoked</td>\n",
              "      <td>0</td>\n",
              "    </tr>\n",
              "    <tr>\n",
              "      <th>5109</th>\n",
              "      <td>44679</td>\n",
              "      <td>Female</td>\n",
              "      <td>44.0</td>\n",
              "      <td>0</td>\n",
              "      <td>0</td>\n",
              "      <td>Yes</td>\n",
              "      <td>Govt_job</td>\n",
              "      <td>Urban</td>\n",
              "      <td>85.28</td>\n",
              "      <td>26.2</td>\n",
              "      <td>Unknown</td>\n",
              "      <td>0</td>\n",
              "    </tr>\n",
              "  </tbody>\n",
              "</table>\n",
              "<p>5110 rows × 12 columns</p>\n",
              "</div>\n",
              "      <button class=\"colab-df-convert\" onclick=\"convertToInteractive('df-6538a15d-7e79-4baa-8118-5b659a2463d1')\"\n",
              "              title=\"Convert this dataframe to an interactive table.\"\n",
              "              style=\"display:none;\">\n",
              "        \n",
              "  <svg xmlns=\"http://www.w3.org/2000/svg\" height=\"24px\"viewBox=\"0 0 24 24\"\n",
              "       width=\"24px\">\n",
              "    <path d=\"M0 0h24v24H0V0z\" fill=\"none\"/>\n",
              "    <path d=\"M18.56 5.44l.94 2.06.94-2.06 2.06-.94-2.06-.94-.94-2.06-.94 2.06-2.06.94zm-11 1L8.5 8.5l.94-2.06 2.06-.94-2.06-.94L8.5 2.5l-.94 2.06-2.06.94zm10 10l.94 2.06.94-2.06 2.06-.94-2.06-.94-.94-2.06-.94 2.06-2.06.94z\"/><path d=\"M17.41 7.96l-1.37-1.37c-.4-.4-.92-.59-1.43-.59-.52 0-1.04.2-1.43.59L10.3 9.45l-7.72 7.72c-.78.78-.78 2.05 0 2.83L4 21.41c.39.39.9.59 1.41.59.51 0 1.02-.2 1.41-.59l7.78-7.78 2.81-2.81c.8-.78.8-2.07 0-2.86zM5.41 20L4 18.59l7.72-7.72 1.47 1.35L5.41 20z\"/>\n",
              "  </svg>\n",
              "      </button>\n",
              "      \n",
              "  <style>\n",
              "    .colab-df-container {\n",
              "      display:flex;\n",
              "      flex-wrap:wrap;\n",
              "      gap: 12px;\n",
              "    }\n",
              "\n",
              "    .colab-df-convert {\n",
              "      background-color: #E8F0FE;\n",
              "      border: none;\n",
              "      border-radius: 50%;\n",
              "      cursor: pointer;\n",
              "      display: none;\n",
              "      fill: #1967D2;\n",
              "      height: 32px;\n",
              "      padding: 0 0 0 0;\n",
              "      width: 32px;\n",
              "    }\n",
              "\n",
              "    .colab-df-convert:hover {\n",
              "      background-color: #E2EBFA;\n",
              "      box-shadow: 0px 1px 2px rgba(60, 64, 67, 0.3), 0px 1px 3px 1px rgba(60, 64, 67, 0.15);\n",
              "      fill: #174EA6;\n",
              "    }\n",
              "\n",
              "    [theme=dark] .colab-df-convert {\n",
              "      background-color: #3B4455;\n",
              "      fill: #D2E3FC;\n",
              "    }\n",
              "\n",
              "    [theme=dark] .colab-df-convert:hover {\n",
              "      background-color: #434B5C;\n",
              "      box-shadow: 0px 1px 3px 1px rgba(0, 0, 0, 0.15);\n",
              "      filter: drop-shadow(0px 1px 2px rgba(0, 0, 0, 0.3));\n",
              "      fill: #FFFFFF;\n",
              "    }\n",
              "  </style>\n",
              "\n",
              "      <script>\n",
              "        const buttonEl =\n",
              "          document.querySelector('#df-6538a15d-7e79-4baa-8118-5b659a2463d1 button.colab-df-convert');\n",
              "        buttonEl.style.display =\n",
              "          google.colab.kernel.accessAllowed ? 'block' : 'none';\n",
              "\n",
              "        async function convertToInteractive(key) {\n",
              "          const element = document.querySelector('#df-6538a15d-7e79-4baa-8118-5b659a2463d1');\n",
              "          const dataTable =\n",
              "            await google.colab.kernel.invokeFunction('convertToInteractive',\n",
              "                                                     [key], {});\n",
              "          if (!dataTable) return;\n",
              "\n",
              "          const docLinkHtml = 'Like what you see? Visit the ' +\n",
              "            '<a target=\"_blank\" href=https://colab.research.google.com/notebooks/data_table.ipynb>data table notebook</a>'\n",
              "            + ' to learn more about interactive tables.';\n",
              "          element.innerHTML = '';\n",
              "          dataTable['output_type'] = 'display_data';\n",
              "          await google.colab.output.renderOutput(dataTable, element);\n",
              "          const docLink = document.createElement('div');\n",
              "          docLink.innerHTML = docLinkHtml;\n",
              "          element.appendChild(docLink);\n",
              "        }\n",
              "      </script>\n",
              "    </div>\n",
              "  </div>\n",
              "  "
            ]
          },
          "metadata": {},
          "execution_count": 229
        }
      ]
    },
    {
      "cell_type": "code",
      "source": [
        "data.isna().sum()"
      ],
      "metadata": {
        "colab": {
          "base_uri": "https://localhost:8080/"
        },
        "id": "nXEnW4xk1BOK",
        "outputId": "6bfe24fe-1d58-440f-d31d-44b90c982ff0"
      },
      "execution_count": null,
      "outputs": [
        {
          "output_type": "execute_result",
          "data": {
            "text/plain": [
              "id                     0\n",
              "gender                 0\n",
              "age                    0\n",
              "hypertension           0\n",
              "heart_disease          0\n",
              "ever_married           0\n",
              "work_type              0\n",
              "Residence_type         0\n",
              "avg_glucose_level      0\n",
              "bmi                  201\n",
              "smoking_status         0\n",
              "stroke                 0\n",
              "dtype: int64"
            ]
          },
          "metadata": {},
          "execution_count": 230
        }
      ]
    },
    {
      "cell_type": "code",
      "source": [
        "data=data.dropna()"
      ],
      "metadata": {
        "id": "Lp57LmnZBuF7"
      },
      "execution_count": null,
      "outputs": []
    },
    {
      "cell_type": "code",
      "source": [
        "data.isna().sum()"
      ],
      "metadata": {
        "colab": {
          "base_uri": "https://localhost:8080/"
        },
        "id": "MixD5flo1NLT",
        "outputId": "a75028e2-1198-4fb3-f945-f3eab34594aa"
      },
      "execution_count": null,
      "outputs": [
        {
          "output_type": "execute_result",
          "data": {
            "text/plain": [
              "id                   0\n",
              "gender               0\n",
              "age                  0\n",
              "hypertension         0\n",
              "heart_disease        0\n",
              "ever_married         0\n",
              "work_type            0\n",
              "Residence_type       0\n",
              "avg_glucose_level    0\n",
              "bmi                  0\n",
              "smoking_status       0\n",
              "stroke               0\n",
              "dtype: int64"
            ]
          },
          "metadata": {},
          "execution_count": 232
        }
      ]
    },
    {
      "cell_type": "code",
      "source": [
        "data['gender']=lbcode.fit_transform(data['gender'])\n",
        "data['ever_married']=lbcode.fit_transform(data['ever_married'])\n",
        "data['work_type']=lbcode.fit_transform(data['work_type'])\n",
        "data['Residence_type']=lbcode.fit_transform(data['Residence_type'])\n",
        "data['smoking_status']=lbcode.fit_transform(data['smoking_status'])"
      ],
      "metadata": {
        "id": "1Ax5JIcIBunc"
      },
      "execution_count": null,
      "outputs": []
    },
    {
      "cell_type": "code",
      "source": [
        "data"
      ],
      "metadata": {
        "colab": {
          "base_uri": "https://localhost:8080/",
          "height": 424
        },
        "id": "47CyGTU0C1Sv",
        "outputId": "3632f8e9-3781-466c-e902-00ac88b4ad39"
      },
      "execution_count": null,
      "outputs": [
        {
          "output_type": "execute_result",
          "data": {
            "text/plain": [
              "         id  gender   age  hypertension  heart_disease  ever_married  \\\n",
              "0      9046       1  67.0             0              1             1   \n",
              "2     31112       1  80.0             0              1             1   \n",
              "3     60182       0  49.0             0              0             1   \n",
              "4      1665       0  79.0             1              0             1   \n",
              "5     56669       1  81.0             0              0             1   \n",
              "...     ...     ...   ...           ...            ...           ...   \n",
              "5104  14180       0  13.0             0              0             0   \n",
              "5106  44873       0  81.0             0              0             1   \n",
              "5107  19723       0  35.0             0              0             1   \n",
              "5108  37544       1  51.0             0              0             1   \n",
              "5109  44679       0  44.0             0              0             1   \n",
              "\n",
              "      work_type  Residence_type  avg_glucose_level   bmi  smoking_status  \\\n",
              "0             2               1             228.69  36.6               1   \n",
              "2             2               0             105.92  32.5               2   \n",
              "3             2               1             171.23  34.4               3   \n",
              "4             3               0             174.12  24.0               2   \n",
              "5             2               1             186.21  29.0               1   \n",
              "...         ...             ...                ...   ...             ...   \n",
              "5104          4               0             103.08  18.6               0   \n",
              "5106          3               1             125.20  40.0               2   \n",
              "5107          3               0              82.99  30.6               2   \n",
              "5108          2               0             166.29  25.6               1   \n",
              "5109          0               1              85.28  26.2               0   \n",
              "\n",
              "      stroke  \n",
              "0          1  \n",
              "2          1  \n",
              "3          1  \n",
              "4          1  \n",
              "5          1  \n",
              "...      ...  \n",
              "5104       0  \n",
              "5106       0  \n",
              "5107       0  \n",
              "5108       0  \n",
              "5109       0  \n",
              "\n",
              "[4909 rows x 12 columns]"
            ],
            "text/html": [
              "\n",
              "  <div id=\"df-50dbaa86-6302-4ae4-b9cc-59e1ce396c8b\">\n",
              "    <div class=\"colab-df-container\">\n",
              "      <div>\n",
              "<style scoped>\n",
              "    .dataframe tbody tr th:only-of-type {\n",
              "        vertical-align: middle;\n",
              "    }\n",
              "\n",
              "    .dataframe tbody tr th {\n",
              "        vertical-align: top;\n",
              "    }\n",
              "\n",
              "    .dataframe thead th {\n",
              "        text-align: right;\n",
              "    }\n",
              "</style>\n",
              "<table border=\"1\" class=\"dataframe\">\n",
              "  <thead>\n",
              "    <tr style=\"text-align: right;\">\n",
              "      <th></th>\n",
              "      <th>id</th>\n",
              "      <th>gender</th>\n",
              "      <th>age</th>\n",
              "      <th>hypertension</th>\n",
              "      <th>heart_disease</th>\n",
              "      <th>ever_married</th>\n",
              "      <th>work_type</th>\n",
              "      <th>Residence_type</th>\n",
              "      <th>avg_glucose_level</th>\n",
              "      <th>bmi</th>\n",
              "      <th>smoking_status</th>\n",
              "      <th>stroke</th>\n",
              "    </tr>\n",
              "  </thead>\n",
              "  <tbody>\n",
              "    <tr>\n",
              "      <th>0</th>\n",
              "      <td>9046</td>\n",
              "      <td>1</td>\n",
              "      <td>67.0</td>\n",
              "      <td>0</td>\n",
              "      <td>1</td>\n",
              "      <td>1</td>\n",
              "      <td>2</td>\n",
              "      <td>1</td>\n",
              "      <td>228.69</td>\n",
              "      <td>36.6</td>\n",
              "      <td>1</td>\n",
              "      <td>1</td>\n",
              "    </tr>\n",
              "    <tr>\n",
              "      <th>2</th>\n",
              "      <td>31112</td>\n",
              "      <td>1</td>\n",
              "      <td>80.0</td>\n",
              "      <td>0</td>\n",
              "      <td>1</td>\n",
              "      <td>1</td>\n",
              "      <td>2</td>\n",
              "      <td>0</td>\n",
              "      <td>105.92</td>\n",
              "      <td>32.5</td>\n",
              "      <td>2</td>\n",
              "      <td>1</td>\n",
              "    </tr>\n",
              "    <tr>\n",
              "      <th>3</th>\n",
              "      <td>60182</td>\n",
              "      <td>0</td>\n",
              "      <td>49.0</td>\n",
              "      <td>0</td>\n",
              "      <td>0</td>\n",
              "      <td>1</td>\n",
              "      <td>2</td>\n",
              "      <td>1</td>\n",
              "      <td>171.23</td>\n",
              "      <td>34.4</td>\n",
              "      <td>3</td>\n",
              "      <td>1</td>\n",
              "    </tr>\n",
              "    <tr>\n",
              "      <th>4</th>\n",
              "      <td>1665</td>\n",
              "      <td>0</td>\n",
              "      <td>79.0</td>\n",
              "      <td>1</td>\n",
              "      <td>0</td>\n",
              "      <td>1</td>\n",
              "      <td>3</td>\n",
              "      <td>0</td>\n",
              "      <td>174.12</td>\n",
              "      <td>24.0</td>\n",
              "      <td>2</td>\n",
              "      <td>1</td>\n",
              "    </tr>\n",
              "    <tr>\n",
              "      <th>5</th>\n",
              "      <td>56669</td>\n",
              "      <td>1</td>\n",
              "      <td>81.0</td>\n",
              "      <td>0</td>\n",
              "      <td>0</td>\n",
              "      <td>1</td>\n",
              "      <td>2</td>\n",
              "      <td>1</td>\n",
              "      <td>186.21</td>\n",
              "      <td>29.0</td>\n",
              "      <td>1</td>\n",
              "      <td>1</td>\n",
              "    </tr>\n",
              "    <tr>\n",
              "      <th>...</th>\n",
              "      <td>...</td>\n",
              "      <td>...</td>\n",
              "      <td>...</td>\n",
              "      <td>...</td>\n",
              "      <td>...</td>\n",
              "      <td>...</td>\n",
              "      <td>...</td>\n",
              "      <td>...</td>\n",
              "      <td>...</td>\n",
              "      <td>...</td>\n",
              "      <td>...</td>\n",
              "      <td>...</td>\n",
              "    </tr>\n",
              "    <tr>\n",
              "      <th>5104</th>\n",
              "      <td>14180</td>\n",
              "      <td>0</td>\n",
              "      <td>13.0</td>\n",
              "      <td>0</td>\n",
              "      <td>0</td>\n",
              "      <td>0</td>\n",
              "      <td>4</td>\n",
              "      <td>0</td>\n",
              "      <td>103.08</td>\n",
              "      <td>18.6</td>\n",
              "      <td>0</td>\n",
              "      <td>0</td>\n",
              "    </tr>\n",
              "    <tr>\n",
              "      <th>5106</th>\n",
              "      <td>44873</td>\n",
              "      <td>0</td>\n",
              "      <td>81.0</td>\n",
              "      <td>0</td>\n",
              "      <td>0</td>\n",
              "      <td>1</td>\n",
              "      <td>3</td>\n",
              "      <td>1</td>\n",
              "      <td>125.20</td>\n",
              "      <td>40.0</td>\n",
              "      <td>2</td>\n",
              "      <td>0</td>\n",
              "    </tr>\n",
              "    <tr>\n",
              "      <th>5107</th>\n",
              "      <td>19723</td>\n",
              "      <td>0</td>\n",
              "      <td>35.0</td>\n",
              "      <td>0</td>\n",
              "      <td>0</td>\n",
              "      <td>1</td>\n",
              "      <td>3</td>\n",
              "      <td>0</td>\n",
              "      <td>82.99</td>\n",
              "      <td>30.6</td>\n",
              "      <td>2</td>\n",
              "      <td>0</td>\n",
              "    </tr>\n",
              "    <tr>\n",
              "      <th>5108</th>\n",
              "      <td>37544</td>\n",
              "      <td>1</td>\n",
              "      <td>51.0</td>\n",
              "      <td>0</td>\n",
              "      <td>0</td>\n",
              "      <td>1</td>\n",
              "      <td>2</td>\n",
              "      <td>0</td>\n",
              "      <td>166.29</td>\n",
              "      <td>25.6</td>\n",
              "      <td>1</td>\n",
              "      <td>0</td>\n",
              "    </tr>\n",
              "    <tr>\n",
              "      <th>5109</th>\n",
              "      <td>44679</td>\n",
              "      <td>0</td>\n",
              "      <td>44.0</td>\n",
              "      <td>0</td>\n",
              "      <td>0</td>\n",
              "      <td>1</td>\n",
              "      <td>0</td>\n",
              "      <td>1</td>\n",
              "      <td>85.28</td>\n",
              "      <td>26.2</td>\n",
              "      <td>0</td>\n",
              "      <td>0</td>\n",
              "    </tr>\n",
              "  </tbody>\n",
              "</table>\n",
              "<p>4909 rows × 12 columns</p>\n",
              "</div>\n",
              "      <button class=\"colab-df-convert\" onclick=\"convertToInteractive('df-50dbaa86-6302-4ae4-b9cc-59e1ce396c8b')\"\n",
              "              title=\"Convert this dataframe to an interactive table.\"\n",
              "              style=\"display:none;\">\n",
              "        \n",
              "  <svg xmlns=\"http://www.w3.org/2000/svg\" height=\"24px\"viewBox=\"0 0 24 24\"\n",
              "       width=\"24px\">\n",
              "    <path d=\"M0 0h24v24H0V0z\" fill=\"none\"/>\n",
              "    <path d=\"M18.56 5.44l.94 2.06.94-2.06 2.06-.94-2.06-.94-.94-2.06-.94 2.06-2.06.94zm-11 1L8.5 8.5l.94-2.06 2.06-.94-2.06-.94L8.5 2.5l-.94 2.06-2.06.94zm10 10l.94 2.06.94-2.06 2.06-.94-2.06-.94-.94-2.06-.94 2.06-2.06.94z\"/><path d=\"M17.41 7.96l-1.37-1.37c-.4-.4-.92-.59-1.43-.59-.52 0-1.04.2-1.43.59L10.3 9.45l-7.72 7.72c-.78.78-.78 2.05 0 2.83L4 21.41c.39.39.9.59 1.41.59.51 0 1.02-.2 1.41-.59l7.78-7.78 2.81-2.81c.8-.78.8-2.07 0-2.86zM5.41 20L4 18.59l7.72-7.72 1.47 1.35L5.41 20z\"/>\n",
              "  </svg>\n",
              "      </button>\n",
              "      \n",
              "  <style>\n",
              "    .colab-df-container {\n",
              "      display:flex;\n",
              "      flex-wrap:wrap;\n",
              "      gap: 12px;\n",
              "    }\n",
              "\n",
              "    .colab-df-convert {\n",
              "      background-color: #E8F0FE;\n",
              "      border: none;\n",
              "      border-radius: 50%;\n",
              "      cursor: pointer;\n",
              "      display: none;\n",
              "      fill: #1967D2;\n",
              "      height: 32px;\n",
              "      padding: 0 0 0 0;\n",
              "      width: 32px;\n",
              "    }\n",
              "\n",
              "    .colab-df-convert:hover {\n",
              "      background-color: #E2EBFA;\n",
              "      box-shadow: 0px 1px 2px rgba(60, 64, 67, 0.3), 0px 1px 3px 1px rgba(60, 64, 67, 0.15);\n",
              "      fill: #174EA6;\n",
              "    }\n",
              "\n",
              "    [theme=dark] .colab-df-convert {\n",
              "      background-color: #3B4455;\n",
              "      fill: #D2E3FC;\n",
              "    }\n",
              "\n",
              "    [theme=dark] .colab-df-convert:hover {\n",
              "      background-color: #434B5C;\n",
              "      box-shadow: 0px 1px 3px 1px rgba(0, 0, 0, 0.15);\n",
              "      filter: drop-shadow(0px 1px 2px rgba(0, 0, 0, 0.3));\n",
              "      fill: #FFFFFF;\n",
              "    }\n",
              "  </style>\n",
              "\n",
              "      <script>\n",
              "        const buttonEl =\n",
              "          document.querySelector('#df-50dbaa86-6302-4ae4-b9cc-59e1ce396c8b button.colab-df-convert');\n",
              "        buttonEl.style.display =\n",
              "          google.colab.kernel.accessAllowed ? 'block' : 'none';\n",
              "\n",
              "        async function convertToInteractive(key) {\n",
              "          const element = document.querySelector('#df-50dbaa86-6302-4ae4-b9cc-59e1ce396c8b');\n",
              "          const dataTable =\n",
              "            await google.colab.kernel.invokeFunction('convertToInteractive',\n",
              "                                                     [key], {});\n",
              "          if (!dataTable) return;\n",
              "\n",
              "          const docLinkHtml = 'Like what you see? Visit the ' +\n",
              "            '<a target=\"_blank\" href=https://colab.research.google.com/notebooks/data_table.ipynb>data table notebook</a>'\n",
              "            + ' to learn more about interactive tables.';\n",
              "          element.innerHTML = '';\n",
              "          dataTable['output_type'] = 'display_data';\n",
              "          await google.colab.output.renderOutput(dataTable, element);\n",
              "          const docLink = document.createElement('div');\n",
              "          docLink.innerHTML = docLinkHtml;\n",
              "          element.appendChild(docLink);\n",
              "        }\n",
              "      </script>\n",
              "    </div>\n",
              "  </div>\n",
              "  "
            ]
          },
          "metadata": {},
          "execution_count": 234
        }
      ]
    },
    {
      "cell_type": "code",
      "source": [
        "sns.countplot(data['stroke'])\n",
        "plt.plot()"
      ],
      "metadata": {
        "colab": {
          "base_uri": "https://localhost:8080/",
          "height": 296
        },
        "id": "dzUOkWdM5002",
        "outputId": "beff890d-1c82-454e-f749-bd57d6ab212b"
      },
      "execution_count": null,
      "outputs": [
        {
          "output_type": "execute_result",
          "data": {
            "text/plain": [
              "[]"
            ]
          },
          "metadata": {},
          "execution_count": 235
        },
        {
          "output_type": "display_data",
          "data": {
            "text/plain": [
              "<Figure size 432x288 with 1 Axes>"
            ],
            "image/png": "[encoded data removed]"
          },
          "metadata": {
            "needs_background": "light"
          }
        }
      ]
    },
    {
      "cell_type": "code",
      "source": [
        "plt.figure(figsize = (15,15))\n",
        "sns.heatmap(data.corr(), annot = True, cmap = \"RdYlGn\")\n",
        "plt.show()"
      ],
      "metadata": {
        "id": "RE2-l3RUDSki",
        "colab": {
          "base_uri": "https://localhost:8080/",
          "height": 948
        },
        "outputId": "7357151e-07e4-4938-e36d-1067dff2acbf"
      },
      "execution_count": null,
      "outputs": [
        {
          "output_type": "display_data",
          "data": {
            "text/plain": [
              "<Figure size 1080x1080 with 2 Axes>"
            ],
            "image/png": "[encoded data removed]"
          },
          "metadata": {
            "needs_background": "light"
          }
        }
      ]
    },
    {
      "cell_type": "markdown",
      "source": [
        "Dropping Residence_type and id as they do not provide any useful information"
      ],
      "metadata": {
        "id": "LFz6WRgy2E9R"
      }
    },
    {
      "cell_type": "code",
      "source": [
        "y=data['stroke'].to_numpy()\n",
        "X=data.drop(['stroke','Residence_type','id'],axis=1)"
      ],
      "metadata": {
        "id": "blHWm309IibS"
      },
      "execution_count": null,
      "outputs": []
    },
    {
      "cell_type": "code",
      "source": [
        "scalar.fit(X)\n",
        "data_scaled=pd.DataFrame(scalar.transform(X))\n",
        "X_train,X_test,y_train,y_test=train_test_split(data_scaled,y,train_size=0.7,random_state=0)"
      ],
      "metadata": {
        "id": "BpDdUE0hGAqj"
      },
      "execution_count": null,
      "outputs": []
    },
    {
      "cell_type": "code",
      "source": [
        "data_scaled"
      ],
      "metadata": {
        "colab": {
          "base_uri": "https://localhost:8080/",
          "height": 424
        },
        "id": "SCp-CTWlHLeQ",
        "outputId": "ab7abd01-af0d-4dc1-c5be-c2bc7604c798"
      },
      "execution_count": null,
      "outputs": [
        {
          "output_type": "execute_result",
          "data": {
            "text/plain": [
              "             0         1         2         3         4         5         6  \\\n",
              "0     1.198428  1.070138 -0.318067  4.381968  0.729484 -0.155697  2.777698   \n",
              "1     1.198428  1.646563 -0.318067  4.381968  0.729484 -0.155697  0.013842   \n",
              "2    -0.833023  0.272012 -0.318067 -0.228208  0.729484 -0.155697  1.484132   \n",
              "3    -0.833023  1.602222  3.143994 -0.228208  0.729484  0.759651  1.549193   \n",
              "4     1.198428  1.690903 -0.318067 -0.228208  0.729484 -0.155697  1.821368   \n",
              "...        ...       ...       ...       ...       ...       ...       ...   \n",
              "4904 -0.833023 -1.324241 -0.318067 -0.228208 -1.370831  1.674998 -0.050094   \n",
              "4905 -0.833023  1.690903 -0.318067 -0.228208  0.729484  0.759651  0.447882   \n",
              "4906 -0.833023 -0.348753 -0.318067 -0.228208  0.729484  0.759651 -0.502369   \n",
              "4907  1.198428  0.360692 -0.318067 -0.228208  0.729484 -0.155697  1.372920   \n",
              "4908 -0.833023  0.050310 -0.318067 -0.228208  0.729484 -1.986391 -0.450816   \n",
              "\n",
              "             7         8  \n",
              "0     0.981345 -0.351788  \n",
              "1     0.459269  0.585232  \n",
              "2     0.701207  1.522252  \n",
              "3    -0.623083  0.585232  \n",
              "4     0.013595 -0.351788  \n",
              "...        ...       ...  \n",
              "4904 -1.310695 -1.288808  \n",
              "4905  1.414286  0.585232  \n",
              "4906  0.217332  0.585232  \n",
              "4907 -0.419346 -0.351788  \n",
              "4908 -0.342945 -1.288808  \n",
              "\n",
              "[4909 rows x 9 columns]"
            ],
            "text/html": [
              "\n",
              "  <div id=\"df-e12dd581-bc00-492e-9d77-9571ddf30bbd\">\n",
              "    <div class=\"colab-df-container\">\n",
              "      <div>\n",
              "<style scoped>\n",
              "    .dataframe tbody tr th:only-of-type {\n",
              "        vertical-align: middle;\n",
              "    }\n",
              "\n",
              "    .dataframe tbody tr th {\n",
              "        vertical-align: top;\n",
              "    }\n",
              "\n",
              "    .dataframe thead th {\n",
              "        text-align: right;\n",
              "    }\n",
              "</style>\n",
              "<table border=\"1\" class=\"dataframe\">\n",
              "  <thead>\n",
              "    <tr style=\"text-align: right;\">\n",
              "      <th></th>\n",
              "      <th>0</th>\n",
              "      <th>1</th>\n",
              "      <th>2</th>\n",
              "      <th>3</th>\n",
              "      <th>4</th>\n",
              "      <th>5</th>\n",
              "      <th>6</th>\n",
              "      <th>7</th>\n",
              "      <th>8</th>\n",
              "    </tr>\n",
              "  </thead>\n",
              "  <tbody>\n",
              "    <tr>\n",
              "      <th>0</th>\n",
              "      <td>1.198428</td>\n",
              "      <td>1.070138</td>\n",
              "      <td>-0.318067</td>\n",
              "      <td>4.381968</td>\n",
              "      <td>0.729484</td>\n",
              "      <td>-0.155697</td>\n",
              "      <td>2.777698</td>\n",
              "      <td>0.981345</td>\n",
              "      <td>-0.351788</td>\n",
              "    </tr>\n",
              "    <tr>\n",
              "      <th>1</th>\n",
              "      <td>1.198428</td>\n",
              "      <td>1.646563</td>\n",
              "      <td>-0.318067</td>\n",
              "      <td>4.381968</td>\n",
              "      <td>0.729484</td>\n",
              "      <td>-0.155697</td>\n",
              "      <td>0.013842</td>\n",
              "      <td>0.459269</td>\n",
              "      <td>0.585232</td>\n",
              "    </tr>\n",
              "    <tr>\n",
              "      <th>2</th>\n",
              "      <td>-0.833023</td>\n",
              "      <td>0.272012</td>\n",
              "      <td>-0.318067</td>\n",
              "      <td>-0.228208</td>\n",
              "      <td>0.729484</td>\n",
              "      <td>-0.155697</td>\n",
              "      <td>1.484132</td>\n",
              "      <td>0.701207</td>\n",
              "      <td>1.522252</td>\n",
              "    </tr>\n",
              "    <tr>\n",
              "      <th>3</th>\n",
              "      <td>-0.833023</td>\n",
              "      <td>1.602222</td>\n",
              "      <td>3.143994</td>\n",
              "      <td>-0.228208</td>\n",
              "      <td>0.729484</td>\n",
              "      <td>0.759651</td>\n",
              "      <td>1.549193</td>\n",
              "      <td>-0.623083</td>\n",
              "      <td>0.585232</td>\n",
              "    </tr>\n",
              "    <tr>\n",
              "      <th>4</th>\n",
              "      <td>1.198428</td>\n",
              "      <td>1.690903</td>\n",
              "      <td>-0.318067</td>\n",
              "      <td>-0.228208</td>\n",
              "      <td>0.729484</td>\n",
              "      <td>-0.155697</td>\n",
              "      <td>1.821368</td>\n",
              "      <td>0.013595</td>\n",
              "      <td>-0.351788</td>\n",
              "    </tr>\n",
              "    <tr>\n",
              "      <th>...</th>\n",
              "      <td>...</td>\n",
              "      <td>...</td>\n",
              "      <td>...</td>\n",
              "      <td>...</td>\n",
              "      <td>...</td>\n",
              "      <td>...</td>\n",
              "      <td>...</td>\n",
              "      <td>...</td>\n",
              "      <td>...</td>\n",
              "    </tr>\n",
              "    <tr>\n",
              "      <th>4904</th>\n",
              "      <td>-0.833023</td>\n",
              "      <td>-1.324241</td>\n",
              "      <td>-0.318067</td>\n",
              "      <td>-0.228208</td>\n",
              "      <td>-1.370831</td>\n",
              "      <td>1.674998</td>\n",
              "      <td>-0.050094</td>\n",
              "      <td>-1.310695</td>\n",
              "      <td>-1.288808</td>\n",
              "    </tr>\n",
              "    <tr>\n",
              "      <th>4905</th>\n",
              "      <td>-0.833023</td>\n",
              "      <td>1.690903</td>\n",
              "      <td>-0.318067</td>\n",
              "      <td>-0.228208</td>\n",
              "      <td>0.729484</td>\n",
              "      <td>0.759651</td>\n",
              "      <td>0.447882</td>\n",
              "      <td>1.414286</td>\n",
              "      <td>0.585232</td>\n",
              "    </tr>\n",
              "    <tr>\n",
              "      <th>4906</th>\n",
              "      <td>-0.833023</td>\n",
              "      <td>-0.348753</td>\n",
              "      <td>-0.318067</td>\n",
              "      <td>-0.228208</td>\n",
              "      <td>0.729484</td>\n",
              "      <td>0.759651</td>\n",
              "      <td>-0.502369</td>\n",
              "      <td>0.217332</td>\n",
              "      <td>0.585232</td>\n",
              "    </tr>\n",
              "    <tr>\n",
              "      <th>4907</th>\n",
              "      <td>1.198428</td>\n",
              "      <td>0.360692</td>\n",
              "      <td>-0.318067</td>\n",
              "      <td>-0.228208</td>\n",
              "      <td>0.729484</td>\n",
              "      <td>-0.155697</td>\n",
              "      <td>1.372920</td>\n",
              "      <td>-0.419346</td>\n",
              "      <td>-0.351788</td>\n",
              "    </tr>\n",
              "    <tr>\n",
              "      <th>4908</th>\n",
              "      <td>-0.833023</td>\n",
              "      <td>0.050310</td>\n",
              "      <td>-0.318067</td>\n",
              "      <td>-0.228208</td>\n",
              "      <td>0.729484</td>\n",
              "      <td>-1.986391</td>\n",
              "      <td>-0.450816</td>\n",
              "      <td>-0.342945</td>\n",
              "      <td>-1.288808</td>\n",
              "    </tr>\n",
              "  </tbody>\n",
              "</table>\n",
              "<p>4909 rows × 9 columns</p>\n",
              "</div>\n",
              "      <button class=\"colab-df-convert\" onclick=\"convertToInteractive('df-e12dd581-bc00-492e-9d77-9571ddf30bbd')\"\n",
              "              title=\"Convert this dataframe to an interactive table.\"\n",
              "              style=\"display:none;\">\n",
              "        \n",
              "  <svg xmlns=\"http://www.w3.org/2000/svg\" height=\"24px\"viewBox=\"0 0 24 24\"\n",
              "       width=\"24px\">\n",
              "    <path d=\"M0 0h24v24H0V0z\" fill=\"none\"/>\n",
              "    <path d=\"M18.56 5.44l.94 2.06.94-2.06 2.06-.94-2.06-.94-.94-2.06-.94 2.06-2.06.94zm-11 1L8.5 8.5l.94-2.06 2.06-.94-2.06-.94L8.5 2.5l-.94 2.06-2.06.94zm10 10l.94 2.06.94-2.06 2.06-.94-2.06-.94-.94-2.06-.94 2.06-2.06.94z\"/><path d=\"M17.41 7.96l-1.37-1.37c-.4-.4-.92-.59-1.43-.59-.52 0-1.04.2-1.43.59L10.3 9.45l-7.72 7.72c-.78.78-.78 2.05 0 2.83L4 21.41c.39.39.9.59 1.41.59.51 0 1.02-.2 1.41-.59l7.78-7.78 2.81-2.81c.8-.78.8-2.07 0-2.86zM5.41 20L4 18.59l7.72-7.72 1.47 1.35L5.41 20z\"/>\n",
              "  </svg>\n",
              "      </button>\n",
              "      \n",
              "  <style>\n",
              "    .colab-df-container {\n",
              "      display:flex;\n",
              "      flex-wrap:wrap;\n",
              "      gap: 12px;\n",
              "    }\n",
              "\n",
              "    .colab-df-convert {\n",
              "      background-color: #E8F0FE;\n",
              "      border: none;\n",
              "      border-radius: 50%;\n",
              "      cursor: pointer;\n",
              "      display: none;\n",
              "      fill: #1967D2;\n",
              "      height: 32px;\n",
              "      padding: 0 0 0 0;\n",
              "      width: 32px;\n",
              "    }\n",
              "\n",
              "    .colab-df-convert:hover {\n",
              "      background-color: #E2EBFA;\n",
              "      box-shadow: 0px 1px 2px rgba(60, 64, 67, 0.3), 0px 1px 3px 1px rgba(60, 64, 67, 0.15);\n",
              "      fill: #174EA6;\n",
              "    }\n",
              "\n",
              "    [theme=dark] .colab-df-convert {\n",
              "      background-color: #3B4455;\n",
              "      fill: #D2E3FC;\n",
              "    }\n",
              "\n",
              "    [theme=dark] .colab-df-convert:hover {\n",
              "      background-color: #434B5C;\n",
              "      box-shadow: 0px 1px 3px 1px rgba(0, 0, 0, 0.15);\n",
              "      filter: drop-shadow(0px 1px 2px rgba(0, 0, 0, 0.3));\n",
              "      fill: #FFFFFF;\n",
              "    }\n",
              "  </style>\n",
              "\n",
              "      <script>\n",
              "        const buttonEl =\n",
              "          document.querySelector('#df-e12dd581-bc00-492e-9d77-9571ddf30bbd button.colab-df-convert');\n",
              "        buttonEl.style.display =\n",
              "          google.colab.kernel.accessAllowed ? 'block' : 'none';\n",
              "\n",
              "        async function convertToInteractive(key) {\n",
              "          const element = document.querySelector('#df-e12dd581-bc00-492e-9d77-9571ddf30bbd');\n",
              "          const dataTable =\n",
              "            await google.colab.kernel.invokeFunction('convertToInteractive',\n",
              "                                                     [key], {});\n",
              "          if (!dataTable) return;\n",
              "\n",
              "          const docLinkHtml = 'Like what you see? Visit the ' +\n",
              "            '<a target=\"_blank\" href=https://colab.research.google.com/notebooks/data_table.ipynb>data table notebook</a>'\n",
              "            + ' to learn more about interactive tables.';\n",
              "          element.innerHTML = '';\n",
              "          dataTable['output_type'] = 'display_data';\n",
              "          await google.colab.output.renderOutput(dataTable, element);\n",
              "          const docLink = document.createElement('div');\n",
              "          docLink.innerHTML = docLinkHtml;\n",
              "          element.appendChild(docLink);\n",
              "        }\n",
              "      </script>\n",
              "    </div>\n",
              "  </div>\n",
              "  "
            ]
          },
          "metadata": {},
          "execution_count": 239
        }
      ]
    },
    {
      "cell_type": "code",
      "source": [
        "plt.figure(figsize = (15,15))\n",
        "sns.heatmap(data_scaled.corr(), annot = True, cmap = \"RdYlGn\")\n",
        "plt.show()"
      ],
      "metadata": {
        "colab": {
          "base_uri": "https://localhost:8080/",
          "height": 867
        },
        "id": "k0rYsK5bHndo",
        "outputId": "64ddf976-9912-4a69-d004-35916c724b4a"
      },
      "execution_count": null,
      "outputs": [
        {
          "output_type": "display_data",
          "data": {
            "text/plain": [
              "<Figure size 1080x1080 with 2 Axes>"
            ],
            "image/png": "[encoded data removed]"
          },
          "metadata": {
            "needs_background": "light"
          }
        }
      ]
    },
    {
      "cell_type": "markdown",
      "source": [
        "# Training Models"
      ],
      "metadata": {
        "id": "Un2jxAv0-E1O"
      }
    },
    {
      "cell_type": "code",
      "source": [
        "def plot_confusion_matrix_heatmap(y_actual,y_pred):\n",
        "  cnf_mat = metrics.confusion_matrix(y_actual, y_pred)\n",
        "  class_names=[0,1]\n",
        "  fig, axis = plt.subplots()\n",
        "  tick_marks = np.arange(len(class_names))\n",
        "  plt.xticks(tick_marks, class_names)\n",
        "  plt.yticks(tick_marks, class_names)\n",
        "  # Creating the heatmap of confusion mmatrix\n",
        "  sns.heatmap(pd.DataFrame(cnf_mat), annot=True, cmap=\"YlGnBu\" ,fmt='g')\n",
        "  plt.tight_layout()\n",
        "  plt.title('Confusion matrix', y=1.1)\n",
        "  plt.ylabel('Actual label')\n",
        "  plt.xlabel('Predicted label')"
      ],
      "metadata": {
        "id": "iWGEUcCRTlh3"
      },
      "execution_count": null,
      "outputs": []
    },
    {
      "cell_type": "markdown",
      "source": [
        "Random Forest Classifier"
      ],
      "metadata": {
        "id": "vB79-H6uQtLh"
      }
    },
    {
      "cell_type": "code",
      "source": [
        "from sklearn.ensemble import RandomForestClassifier\n",
        "RFC=RandomForestClassifier(max_features=4,n_estimators=1000)\n",
        "model=RFC.fit(X_train,y_train)\n",
        "y_pred=model.predict(X_test)\n",
        "print('Number of strokes predicted:',sum(y_pred))\n",
        "print('Actual number of strokes:',sum(y_test))\n",
        "print('Accuracy:',accuracy(y_test,y_pred))\n",
        "print('f1 score:',f1_score(y_test,y_pred))\n",
        "print(classification_report(y_test,y_pred))\n",
        "plot_confusion_matrix_heatmap(y_test,y_pred)"
      ],
      "metadata": {
        "id": "OmQ9U6POIDZK",
        "colab": {
          "base_uri": "https://localhost:8080/",
          "height": 552
        },
        "outputId": "66b12f9a-3270-44c4-ce2f-6a6343799472"
      },
      "execution_count": null,
      "outputs": [
        {
          "output_type": "stream",
          "name": "stdout",
          "text": [
            "Number of strokes predicted: 4\n",
            "Actual number of strokes: 55\n",
            "Accuracy: 0.9626612355736592\n",
            "f1 score: 0.06779661016949153\n",
            "              precision    recall  f1-score   support\n",
            "\n",
            "           0       0.96      1.00      0.98      1418\n",
            "           1       0.50      0.04      0.07        55\n",
            "\n",
            "    accuracy                           0.96      1473\n",
            "   macro avg       0.73      0.52      0.52      1473\n",
            "weighted avg       0.95      0.96      0.95      1473\n",
            "\n"
          ]
        },
        {
          "output_type": "display_data",
          "data": {
            "text/plain": [
              "<Figure size 432x288 with 2 Axes>"
            ],
            "image/png": "[encoded data removed]"
          },
          "metadata": {
            "needs_background": "light"
          }
        }
      ]
    },
    {
      "cell_type": "markdown",
      "source": [
        "LightGBM"
      ],
      "metadata": {
        "id": "D477VjEtQRnF"
      }
    },
    {
      "cell_type": "code",
      "source": [
        "!pip install lightgbm\n",
        "import lightgbm as lgb"
      ],
      "metadata": {
        "colab": {
          "base_uri": "https://localhost:8080/"
        },
        "outputId": "68002183-5cb2-401e-a795-7ed9dfd267fb",
        "id": "EagWI1YXQRnF"
      },
      "execution_count": null,
      "outputs": [
        {
          "output_type": "stream",
          "name": "stdout",
          "text": [
            "Requirement already satisfied: lightgbm in /usr/local/lib/python3.7/dist-packages (2.2.3)\n",
            "Requirement already satisfied: scipy in /usr/local/lib/python3.7/dist-packages (from lightgbm) (1.4.1)\n",
            "Requirement already satisfied: numpy in /usr/local/lib/python3.7/dist-packages (from lightgbm) (1.21.6)\n",
            "Requirement already satisfied: scikit-learn in /usr/local/lib/python3.7/dist-packages (from lightgbm) (1.0.2)\n",
            "Requirement already satisfied: threadpoolctl>=2.0.0 in /usr/local/lib/python3.7/dist-packages (from scikit-learn->lightgbm) (3.1.0)\n",
            "Requirement already satisfied: joblib>=0.11 in /usr/local/lib/python3.7/dist-packages (from scikit-learn->lightgbm) (1.1.0)\n"
          ]
        }
      ]
    },
    {
      "cell_type": "code",
      "source": [
        "lgb_classifier=lgb.LGBMClassifier(learning_rate=0.5)\n",
        "model=lgb_classifier.fit(X_train,y_train)\n",
        "y_pred=model.predict(X_test)\n",
        "print('Number of strokes predicted:',sum(y_pred))\n",
        "print('Actual number of strokes:',sum(y_test))\n",
        "print('Accuracy:',accuracy(y_test,y_pred))\n",
        "print('f1 score:',f1_score(y_test,y_pred))\n",
        "print(classification_report(y_test,y_pred))\n",
        "plot_confusion_matrix_heatmap(y_test,y_pred)"
      ],
      "metadata": {
        "colab": {
          "base_uri": "https://localhost:8080/",
          "height": 549
        },
        "outputId": "96ba4a7f-659c-4946-876c-7ed963774f38",
        "id": "SIQ0C1ofQRnF"
      },
      "execution_count": null,
      "outputs": [
        {
          "output_type": "stream",
          "name": "stdout",
          "text": [
            "Number of strokes predicted: 22\n",
            "Actual number of strokes: 55\n",
            "Accuracy: 0.9531568228105907\n",
            "f1 score: 0.1038961038961039\n",
            "              precision    recall  f1-score   support\n",
            "\n",
            "           0       0.96      0.99      0.98      1418\n",
            "           1       0.18      0.07      0.10        55\n",
            "\n",
            "    accuracy                           0.95      1473\n",
            "   macro avg       0.57      0.53      0.54      1473\n",
            "weighted avg       0.94      0.95      0.94      1473\n",
            "\n"
          ]
        },
        {
          "output_type": "display_data",
          "data": {
            "text/plain": [
              "<Figure size 432x288 with 2 Axes>"
            ],
            "image/png": "[encoded data removed]"
          },
          "metadata": {
            "needs_background": "light"
          }
        }
      ]
    },
    {
      "cell_type": "markdown",
      "source": [
        "LinearSVC"
      ],
      "metadata": {
        "id": "ibWvgkesQRnG"
      }
    },
    {
      "cell_type": "code",
      "source": [
        "from sklearn.svm import LinearSVC\n",
        "svm=LinearSVC(C=0.1)\n",
        "model=svm.fit(X_train,y_train)\n",
        "y_pred=model.predict(X_test)\n",
        "print('Number of strokes predicted:',sum(y_pred))\n",
        "print('Actual number of strokes:',sum(y_test))\n",
        "print('Accuracy:',accuracy(y_test,y_pred))\n",
        "print('f1 score:',f1_score(y_test,y_pred))\n",
        "print(classification_report(y_test,y_pred))\n",
        "plot_confusion_matrix_heatmap(y_test,y_pred)"
      ],
      "metadata": {
        "colab": {
          "base_uri": "https://localhost:8080/",
          "height": 552
        },
        "outputId": "2604e31e-c103-49e5-a078-9d8cb9a0be53",
        "id": "QY-K2jwCQRnG"
      },
      "execution_count": null,
      "outputs": [
        {
          "output_type": "stream",
          "name": "stdout",
          "text": [
            "Number of strokes predicted: 0\n",
            "Actual number of strokes: 55\n",
            "Accuracy: 0.9626612355736592\n",
            "f1 score: 0.0\n",
            "              precision    recall  f1-score   support\n",
            "\n",
            "           0       0.96      1.00      0.98      1418\n",
            "           1       0.00      0.00      0.00        55\n",
            "\n",
            "    accuracy                           0.96      1473\n",
            "   macro avg       0.48      0.50      0.49      1473\n",
            "weighted avg       0.93      0.96      0.94      1473\n",
            "\n"
          ]
        },
        {
          "output_type": "display_data",
          "data": {
            "text/plain": [
              "<Figure size 432x288 with 2 Axes>"
            ],
            "image/png": "[encoded data removed]"
          },
          "metadata": {
            "needs_background": "light"
          }
        }
      ]
    },
    {
      "cell_type": "markdown",
      "source": [
        "Logistic Regression"
      ],
      "metadata": {
        "id": "59mbk0s9QRnG"
      }
    },
    {
      "cell_type": "code",
      "source": [
        "from sklearn.linear_model import LogisticRegression\n",
        "lgr=LogisticRegression(C=0.2,penalty='l2')\n",
        "model=lgr.fit(X_train,y_train)\n",
        "y_pred=model.predict(X_test)\n",
        "print('Number of strokes predicted:',sum(y_pred))\n",
        "print('Actual number of strokes:',sum(y_test))\n",
        "print('Accuracy:',accuracy(y_test,y_pred))\n",
        "print('f1 score:',f1_score(y_test,y_pred))\n",
        "print(classification_report(y_test,y_pred))\n",
        "plot_confusion_matrix_heatmap(y_test,y_pred)"
      ],
      "metadata": {
        "colab": {
          "base_uri": "https://localhost:8080/",
          "height": 552
        },
        "outputId": "d476f0af-2573-4809-cba5-b3e4dffc215d",
        "id": "PjlfspJTQRnG"
      },
      "execution_count": null,
      "outputs": [
        {
          "output_type": "stream",
          "name": "stdout",
          "text": [
            "Number of strokes predicted: 1\n",
            "Actual number of strokes: 55\n",
            "Accuracy: 0.9633401221995926\n",
            "f1 score: 0.03571428571428572\n",
            "              precision    recall  f1-score   support\n",
            "\n",
            "           0       0.96      1.00      0.98      1418\n",
            "           1       1.00      0.02      0.04        55\n",
            "\n",
            "    accuracy                           0.96      1473\n",
            "   macro avg       0.98      0.51      0.51      1473\n",
            "weighted avg       0.96      0.96      0.95      1473\n",
            "\n"
          ]
        },
        {
          "output_type": "display_data",
          "data": {
            "text/plain": [
              "<Figure size 432x288 with 2 Axes>"
            ],
            "image/png": "[encoded data removed]"
          },
          "metadata": {
            "needs_background": "light"
          }
        }
      ]
    },
    {
      "cell_type": "markdown",
      "source": [
        "XGBoost"
      ],
      "metadata": {
        "id": "WPtEZj_RQRnH"
      }
    },
    {
      "cell_type": "code",
      "source": [
        "!pip install xgboost\n",
        "import xgboost as xgb"
      ],
      "metadata": {
        "colab": {
          "base_uri": "https://localhost:8080/"
        },
        "outputId": "c9e98e7c-28de-4119-e3df-937a94111f14",
        "id": "f_U6YsH_QRnH"
      },
      "execution_count": null,
      "outputs": [
        {
          "output_type": "stream",
          "name": "stdout",
          "text": [
            "Requirement already satisfied: xgboost in /usr/local/lib/python3.7/dist-packages (0.90)\n",
            "Requirement already satisfied: scipy in /usr/local/lib/python3.7/dist-packages (from xgboost) (1.4.1)\n",
            "Requirement already satisfied: numpy in /usr/local/lib/python3.7/dist-packages (from xgboost) (1.21.6)\n"
          ]
        }
      ]
    },
    {
      "cell_type": "code",
      "source": [
        "xgb_classifier=xgb.XGBClassifier(learning_rate=1.2)\n",
        "model=xgb_classifier.fit(X_train,y_train)\n",
        "y_pred=model.predict(X_test)\n",
        "print('Number of strokes predicted:',sum(y_pred))\n",
        "print('Actual number of strokes:',sum(y_test))\n",
        "print('Accuracy:',accuracy(y_test,y_pred))\n",
        "print('f1 score:',f1_score(y_test,y_pred))\n",
        "print(classification_report(y_test,y_pred))\n",
        "plot_confusion_matrix_heatmap(y_test,y_pred)"
      ],
      "metadata": {
        "colab": {
          "base_uri": "https://localhost:8080/",
          "height": 553
        },
        "outputId": "2b3dc673-7cf5-4801-faa1-a98e75df5273",
        "id": "zHn5DaqLQRnH"
      },
      "execution_count": null,
      "outputs": [
        {
          "output_type": "stream",
          "name": "stdout",
          "text": [
            "Number of strokes predicted: 35\n",
            "Actual number of strokes: 55\n",
            "Accuracy: 0.9470468431771895\n",
            "f1 score: 0.13333333333333333\n",
            "              precision    recall  f1-score   support\n",
            "\n",
            "           0       0.97      0.98      0.97      1418\n",
            "           1       0.17      0.11      0.13        55\n",
            "\n",
            "    accuracy                           0.95      1473\n",
            "   macro avg       0.57      0.54      0.55      1473\n",
            "weighted avg       0.94      0.95      0.94      1473\n",
            "\n"
          ]
        },
        {
          "output_type": "display_data",
          "data": {
            "text/plain": [
              "<Figure size 432x288 with 2 Axes>"
            ],
            "image/png": "[encoded data removed]"
          },
          "metadata": {
            "needs_background": "light"
          }
        }
      ]
    },
    {
      "cell_type": "markdown",
      "source": [
        "Decision Tree Classifier"
      ],
      "metadata": {
        "id": "WwJH1eBQQRnI"
      }
    },
    {
      "cell_type": "code",
      "source": [
        "from sklearn.tree import DecisionTreeClassifier\n",
        "dtclassifier = DecisionTreeClassifier(random_state = 0)\n",
        "model=dtclassifier.fit(X_train,y_train)\n",
        "y_pred=model.predict(X_test)\n",
        "print('Number of strokes predicted:',sum(y_pred))\n",
        "print('Actual number of strokes:',sum(y_test))\n",
        "print('Accuracy:',accuracy(y_test,y_pred))\n",
        "print('f1 score:',f1_score(y_test,y_pred))\n",
        "print(classification_report(y_test,y_pred))\n",
        "plot_confusion_matrix_heatmap(y_test,y_pred)"
      ],
      "metadata": {
        "colab": {
          "base_uri": "https://localhost:8080/",
          "height": 553
        },
        "outputId": "339a8278-9e47-4eab-c1d3-2485874bdf1c",
        "id": "7bTKPBItQRnI"
      },
      "execution_count": null,
      "outputs": [
        {
          "output_type": "stream",
          "name": "stdout",
          "text": [
            "Number of strokes predicted: 82\n",
            "Actual number of strokes: 55\n",
            "Accuracy: 0.9178547182620502\n",
            "f1 score: 0.11678832116788321\n",
            "              precision    recall  f1-score   support\n",
            "\n",
            "           0       0.97      0.95      0.96      1418\n",
            "           1       0.10      0.15      0.12        55\n",
            "\n",
            "    accuracy                           0.92      1473\n",
            "   macro avg       0.53      0.55      0.54      1473\n",
            "weighted avg       0.93      0.92      0.93      1473\n",
            "\n"
          ]
        },
        {
          "output_type": "display_data",
          "data": {
            "text/plain": [
              "<Figure size 432x288 with 2 Axes>"
            ],
            "image/png": "[encoded data removed]"
          },
          "metadata": {
            "needs_background": "light"
          }
        }
      ]
    },
    {
      "cell_type": "markdown",
      "source": [
        "In most models, recall of strokes is low and very few number of strokes are predicted. So we try to increase the number of strokes in the training data."
      ],
      "metadata": {
        "id": "yNgQzihT-h-E"
      }
    },
    {
      "cell_type": "markdown",
      "source": [
        "# Training models on oversampled+undersampled data"
      ],
      "metadata": {
        "id": "EJKLfepEP9Hs"
      }
    },
    {
      "cell_type": "code",
      "source": [
        "from imblearn.over_sampling import SMOTE\n",
        "from imblearn.under_sampling import RandomUnderSampler\n",
        "from imblearn.pipeline import Pipeline\n",
        "over = SMOTE(sampling_strategy=0.2, random_state=42)\n",
        "under = RandomUnderSampler(sampling_strategy=0.2, random_state=42)\n",
        "steps = [('o', over), ('u', under)]\n",
        "over_under_pipeline = Pipeline(steps=steps)"
      ],
      "metadata": {
        "id": "Pwtq635RI-G-"
      },
      "execution_count": null,
      "outputs": []
    },
    {
      "cell_type": "code",
      "source": [
        "X_train_resample, y_train_resample=over_under_pipeline.fit_resample(X_train,y_train)"
      ],
      "metadata": {
        "id": "_bxz2yBcADZd"
      },
      "execution_count": null,
      "outputs": []
    },
    {
      "cell_type": "code",
      "source": [
        "sns.countplot(y_train_resample)\n",
        "plt.plot()"
      ],
      "metadata": {
        "colab": {
          "base_uri": "https://localhost:8080/",
          "height": 282
        },
        "id": "a1HJ_CHiGRRM",
        "outputId": "c8a6f147-126d-44f8-8e43-22fa36bdeea0"
      },
      "execution_count": null,
      "outputs": [
        {
          "output_type": "execute_result",
          "data": {
            "text/plain": [
              "[]"
            ]
          },
          "metadata": {},
          "execution_count": 252
        },
        {
          "output_type": "display_data",
          "data": {
            "text/plain": [
              "<Figure size 432x288 with 1 Axes>"
            ],
            "image/png": "[encoded data removed]"
          },
          "metadata": {
            "needs_background": "light"
          }
        }
      ]
    },
    {
      "cell_type": "code",
      "source": [
        "RFC=RandomForestClassifier(max_features=4,n_estimators=1000)\n",
        "model=RFC.fit(X_train_resample,y_train_resample)\n",
        "y_pred=model.predict(X_test)\n",
        "print('Number of strokes predicted:',sum(y_pred))\n",
        "print('Actual number of strokes:',sum(y_test))\n",
        "print('Accuracy:',accuracy(y_test,y_pred))\n",
        "print('f1 score:',f1_score(y_test,y_pred))\n",
        "print(classification_report(y_test,y_pred))\n",
        "plot_confusion_matrix_heatmap(y_test,y_pred)"
      ],
      "metadata": {
        "colab": {
          "base_uri": "https://localhost:8080/",
          "height": 553
        },
        "id": "QNmalYd1-9Qt",
        "outputId": "38aef97f-001f-4f42-eb62-43eef8c4aed9"
      },
      "execution_count": null,
      "outputs": [
        {
          "output_type": "stream",
          "name": "stdout",
          "text": [
            "Number of strokes predicted: 29\n",
            "Actual number of strokes: 55\n",
            "Accuracy: 0.9511201629327902\n",
            "f1 score: 0.14285714285714285\n",
            "              precision    recall  f1-score   support\n",
            "\n",
            "           0       0.97      0.98      0.97      1418\n",
            "           1       0.21      0.11      0.14        55\n",
            "\n",
            "    accuracy                           0.95      1473\n",
            "   macro avg       0.59      0.55      0.56      1473\n",
            "weighted avg       0.94      0.95      0.94      1473\n",
            "\n"
          ]
        },
        {
          "output_type": "display_data",
          "data": {
            "text/plain": [
              "<Figure size 432x288 with 2 Axes>"
            ],
            "image/png": "[encoded data removed]"
          },
          "metadata": {
            "needs_background": "light"
          }
        }
      ]
    },
    {
      "cell_type": "markdown",
      "source": [
        "LightGBM"
      ],
      "metadata": {
        "id": "XVIWEPDgGlLy"
      }
    },
    {
      "cell_type": "code",
      "source": [
        "!pip install lightgbm\n",
        "import lightgbm as lgb"
      ],
      "metadata": {
        "colab": {
          "base_uri": "https://localhost:8080/"
        },
        "id": "P7YtVRUAGc-m",
        "outputId": "b37c094c-1e0c-43eb-a156-75a9a5df4481"
      },
      "execution_count": null,
      "outputs": [
        {
          "output_type": "stream",
          "name": "stdout",
          "text": [
            "Requirement already satisfied: lightgbm in /usr/local/lib/python3.7/dist-packages (2.2.3)\n",
            "Requirement already satisfied: scikit-learn in /usr/local/lib/python3.7/dist-packages (from lightgbm) (1.0.2)\n",
            "Requirement already satisfied: scipy in /usr/local/lib/python3.7/dist-packages (from lightgbm) (1.4.1)\n",
            "Requirement already satisfied: numpy in /usr/local/lib/python3.7/dist-packages (from lightgbm) (1.21.6)\n",
            "Requirement already satisfied: threadpoolctl>=2.0.0 in /usr/local/lib/python3.7/dist-packages (from scikit-learn->lightgbm) (3.1.0)\n",
            "Requirement already satisfied: joblib>=0.11 in /usr/local/lib/python3.7/dist-packages (from scikit-learn->lightgbm) (1.1.0)\n"
          ]
        }
      ]
    },
    {
      "cell_type": "code",
      "source": [
        "lgb_classifier=lgb.LGBMClassifier(learning_rate=0.5)\n",
        "model=lgb_classifier.fit(X_train_resample,y_train_resample)\n",
        "y_pred=model.predict(X_test)\n",
        "print('Number of strokes predicted:',sum(y_pred))\n",
        "print('Actual number of strokes:',sum(y_test))\n",
        "print('Accuracy:',accuracy(y_test,y_pred))\n",
        "print('f1 score:',f1_score(y_test,y_pred))\n",
        "print(classification_report(y_test,y_pred))\n",
        "plot_confusion_matrix_heatmap(y_test,y_pred)"
      ],
      "metadata": {
        "colab": {
          "base_uri": "https://localhost:8080/",
          "height": 553
        },
        "id": "kQZ_Ie67Gp3d",
        "outputId": "4a254c1e-4e5c-436f-b0ac-a341ac855070"
      },
      "execution_count": null,
      "outputs": [
        {
          "output_type": "stream",
          "name": "stdout",
          "text": [
            "Number of strokes predicted: 40\n",
            "Actual number of strokes: 55\n",
            "Accuracy: 0.9490835030549898\n",
            "f1 score: 0.2105263157894737\n",
            "              precision    recall  f1-score   support\n",
            "\n",
            "           0       0.97      0.98      0.97      1418\n",
            "           1       0.25      0.18      0.21        55\n",
            "\n",
            "    accuracy                           0.95      1473\n",
            "   macro avg       0.61      0.58      0.59      1473\n",
            "weighted avg       0.94      0.95      0.95      1473\n",
            "\n"
          ]
        },
        {
          "output_type": "display_data",
          "data": {
            "text/plain": [
              "<Figure size 432x288 with 2 Axes>"
            ],
            "image/png": "[encoded data removed]"
          },
          "metadata": {
            "needs_background": "light"
          }
        }
      ]
    },
    {
      "cell_type": "markdown",
      "source": [
        "LinearSVC"
      ],
      "metadata": {
        "id": "iy-KChtQIRgy"
      }
    },
    {
      "cell_type": "code",
      "source": [
        "from sklearn.svm import LinearSVC\n",
        "svm=LinearSVC(C=0.1)\n",
        "model=svm.fit(X_train_resample,y_train_resample)\n",
        "y_pred=model.predict(X_test)\n",
        "print('Number of strokes predicted:',sum(y_pred))\n",
        "print('Actual number of strokes:',sum(y_test))\n",
        "print('Accuracy:',accuracy(y_test,y_pred))\n",
        "print('f1 score:',f1_score(y_test,y_pred))\n",
        "print(classification_report(y_test,y_pred))\n",
        "plot_confusion_matrix_heatmap(y_test,y_pred)"
      ],
      "metadata": {
        "colab": {
          "base_uri": "https://localhost:8080/",
          "height": 553
        },
        "id": "tmLnuwkIIaRd",
        "outputId": "d0accec1-4cb0-45a8-de27-df1e2d91d51b"
      },
      "execution_count": null,
      "outputs": [
        {
          "output_type": "stream",
          "name": "stdout",
          "text": [
            "Number of strokes predicted: 62\n",
            "Actual number of strokes: 55\n",
            "Accuracy: 0.9382213170400543\n",
            "f1 score: 0.2222222222222222\n",
            "              precision    recall  f1-score   support\n",
            "\n",
            "           0       0.97      0.97      0.97      1418\n",
            "           1       0.21      0.24      0.22        55\n",
            "\n",
            "    accuracy                           0.94      1473\n",
            "   macro avg       0.59      0.60      0.60      1473\n",
            "weighted avg       0.94      0.94      0.94      1473\n",
            "\n"
          ]
        },
        {
          "output_type": "display_data",
          "data": {
            "text/plain": [
              "<Figure size 432x288 with 2 Axes>"
            ],
            "image/png": "[encoded data removed]"
          },
          "metadata": {
            "needs_background": "light"
          }
        }
      ]
    },
    {
      "cell_type": "markdown",
      "source": [
        "Logistic Regression"
      ],
      "metadata": {
        "id": "AjuL7bI5JEOQ"
      }
    },
    {
      "cell_type": "code",
      "source": [
        "from sklearn.linear_model import LogisticRegression\n",
        "lgr=LogisticRegression(C=0.2,penalty='l2')\n",
        "model=lgr.fit(X_train_resample,y_train_resample)\n",
        "y_pred=model.predict(X_test)\n",
        "print('Number of strokes predicted:',sum(y_pred))\n",
        "print('Actual number of strokes:',sum(y_test))\n",
        "print('Accuracy:',accuracy(y_test,y_pred))\n",
        "print('f1 score:',f1_score(y_test,y_pred))\n",
        "print(classification_report(y_test,y_pred))\n",
        "plot_confusion_matrix_heatmap(y_test,y_pred)"
      ],
      "metadata": {
        "colab": {
          "base_uri": "https://localhost:8080/",
          "height": 553
        },
        "id": "rB2UZs2HJS5X",
        "outputId": "db2bbdee-3374-4002-c56a-0e690826f4aa"
      },
      "execution_count": null,
      "outputs": [
        {
          "output_type": "stream",
          "name": "stdout",
          "text": [
            "Number of strokes predicted: 77\n",
            "Actual number of strokes: 55\n",
            "Accuracy: 0.93346911065852\n",
            "f1 score: 0.25757575757575757\n",
            "              precision    recall  f1-score   support\n",
            "\n",
            "           0       0.97      0.96      0.97      1418\n",
            "           1       0.22      0.31      0.26        55\n",
            "\n",
            "    accuracy                           0.93      1473\n",
            "   macro avg       0.60      0.63      0.61      1473\n",
            "weighted avg       0.94      0.93      0.94      1473\n",
            "\n"
          ]
        },
        {
          "output_type": "display_data",
          "data": {
            "text/plain": [
              "<Figure size 432x288 with 2 Axes>"
            ],
            "image/png": "[encoded data removed]"
          },
          "metadata": {
            "needs_background": "light"
          }
        }
      ]
    },
    {
      "cell_type": "markdown",
      "source": [
        "XGBoost"
      ],
      "metadata": {
        "id": "q3PgN34MKa1i"
      }
    },
    {
      "cell_type": "code",
      "source": [
        "!pip install xgboost\n",
        "import xgboost as xgb"
      ],
      "metadata": {
        "colab": {
          "base_uri": "https://localhost:8080/"
        },
        "id": "DYm_clRyNCyV",
        "outputId": "e5a8496f-6543-48f2-a3f0-58a64e9cbcb6"
      },
      "execution_count": null,
      "outputs": [
        {
          "output_type": "stream",
          "name": "stdout",
          "text": [
            "Requirement already satisfied: xgboost in /usr/local/lib/python3.7/dist-packages (0.90)\n",
            "Requirement already satisfied: numpy in /usr/local/lib/python3.7/dist-packages (from xgboost) (1.21.6)\n",
            "Requirement already satisfied: scipy in /usr/local/lib/python3.7/dist-packages (from xgboost) (1.4.1)\n"
          ]
        }
      ]
    },
    {
      "cell_type": "code",
      "source": [
        "xgb_classifier=xgb.XGBClassifier(learning_rate=1.2)\n",
        "model=xgb_classifier.fit(X_train_resample,y_train_resample)\n",
        "y_pred=model.predict(X_test)\n",
        "print('Number of strokes predicted:',sum(y_pred))\n",
        "print('Actual number of strokes:',sum(y_test))\n",
        "print('Accuracy:',accuracy(y_test,y_pred))\n",
        "print('f1 score:',f1_score(y_test,y_pred))\n",
        "print(classification_report(y_test,y_pred))\n",
        "plot_confusion_matrix_heatmap(y_test,y_pred)"
      ],
      "metadata": {
        "colab": {
          "base_uri": "https://localhost:8080/",
          "height": 553
        },
        "id": "Aqux0NNJNQFc",
        "outputId": "d4a63426-da8b-466a-dfb8-135cbcc4c72e"
      },
      "execution_count": null,
      "outputs": [
        {
          "output_type": "stream",
          "name": "stdout",
          "text": [
            "Number of strokes predicted: 49\n",
            "Actual number of strokes: 55\n",
            "Accuracy: 0.9416157501697217\n",
            "f1 score: 0.17307692307692307\n",
            "              precision    recall  f1-score   support\n",
            "\n",
            "           0       0.97      0.97      0.97      1418\n",
            "           1       0.18      0.16      0.17        55\n",
            "\n",
            "    accuracy                           0.94      1473\n",
            "   macro avg       0.58      0.57      0.57      1473\n",
            "weighted avg       0.94      0.94      0.94      1473\n",
            "\n"
          ]
        },
        {
          "output_type": "display_data",
          "data": {
            "text/plain": [
              "<Figure size 432x288 with 2 Axes>"
            ],
            "image/png": "[encoded data removed]"
          },
          "metadata": {
            "needs_background": "light"
          }
        }
      ]
    },
    {
      "cell_type": "markdown",
      "source": [
        "Decision Tree Classifier"
      ],
      "metadata": {
        "id": "jpZx6SZSO-rc"
      }
    },
    {
      "cell_type": "code",
      "source": [
        "from sklearn.tree import DecisionTreeClassifier\n",
        "dtclassifier = DecisionTreeClassifier(random_state = 0)\n",
        "model=dtclassifier.fit(X_train_resample,y_train_resample)\n",
        "y_pred=model.predict(X_test)\n",
        "print('Number of strokes predicted:',sum(y_pred))\n",
        "print('Actual number of strokes:',sum(y_test))\n",
        "print('Accuracy:',accuracy(y_test,y_pred))\n",
        "print('f1 score:',f1_score(y_test,y_pred))\n",
        "print(classification_report(y_test,y_pred))\n",
        "plot_confusion_matrix_heatmap(y_test,y_pred)"
      ],
      "metadata": {
        "colab": {
          "base_uri": "https://localhost:8080/",
          "height": 553
        },
        "id": "ad5xxwSbPOpd",
        "outputId": "217a3544-36cc-4c09-d123-14b9f6a175bd"
      },
      "execution_count": null,
      "outputs": [
        {
          "output_type": "stream",
          "name": "stdout",
          "text": [
            "Number of strokes predicted: 106\n",
            "Actual number of strokes: 55\n",
            "Accuracy: 0.902919212491514\n",
            "f1 score: 0.11180124223602485\n",
            "              precision    recall  f1-score   support\n",
            "\n",
            "           0       0.97      0.93      0.95      1418\n",
            "           1       0.08      0.16      0.11        55\n",
            "\n",
            "    accuracy                           0.90      1473\n",
            "   macro avg       0.53      0.55      0.53      1473\n",
            "weighted avg       0.93      0.90      0.92      1473\n",
            "\n"
          ]
        },
        {
          "output_type": "display_data",
          "data": {
            "text/plain": [
              "<Figure size 432x288 with 2 Axes>"
            ],
            "image/png": "[encoded data removed]"
          },
          "metadata": {
            "needs_background": "light"
          }
        }
      ]
    },
    {
      "cell_type": "markdown",
      "source": [
        "We can see from the results that Logistic Regression on oversampled+undersampled data has performed the best as it gives highest number of correctly identified strokes (confusion matrix) and also the highest f1-score."
      ],
      "metadata": {
        "id": "2xZkdUiYXGtt"
      }
    },
    {
      "cell_type": "markdown",
      "source": [
        "# Note"
      ],
      "metadata": {
        "id": "45ZA42Wh_CyM"
      }
    },
    {
      "cell_type": "markdown",
      "source": [
        "Oversampling the test data along with the train data shows better results. However, this must not be done as the test data is not meant to be modified using oversampling or undersampling. Doing this leads to better results on the modified test data but, the model will give bad results on any new data as this leads to loss in generalizability of the model."
      ],
      "metadata": {
        "id": "raTTf8gF_Fo6"
      }
    },
    {
      "cell_type": "code",
      "source": [
        "oversample=SMOTE(sampling_strategy=1, random_state=42)"
      ],
      "metadata": {
        "id": "OTYvU_WUB-4S"
      },
      "execution_count": null,
      "outputs": []
    },
    {
      "cell_type": "code",
      "source": [
        "X_train_oversample, y_train_oversample=oversample.fit_resample(X_train,y_train)"
      ],
      "metadata": {
        "id": "-P4Qb43FCDqc"
      },
      "execution_count": null,
      "outputs": []
    },
    {
      "cell_type": "code",
      "source": [
        "X_test_oversample, y_test_oversample=oversample.fit_resample(X_test,y_test)"
      ],
      "metadata": {
        "id": "NFGGzpYu_FHv"
      },
      "execution_count": null,
      "outputs": []
    },
    {
      "cell_type": "code",
      "source": [
        "from sklearn.linear_model import LogisticRegression\n",
        "lgr=LogisticRegression(C=0.2,penalty='l2')\n",
        "model=lgr.fit(X_train_oversample,y_train_oversample)\n",
        "y_pred_oversample=model.predict(X_test_oversample)\n",
        "print('Number of strokes predicted:',sum(y_pred_oversample))\n",
        "print('Actual number of strokes:',sum(y_test_oversample))\n",
        "print('Accuracy:',accuracy(y_test_oversample,y_pred_oversample))\n",
        "print('f1 score:',f1_score(y_test_oversample,y_pred_oversample))\n",
        "print(classification_report(y_test_oversample,y_pred_oversample))\n",
        "plot_confusion_matrix_heatmap(y_test_oversample,y_pred_oversample)"
      ],
      "metadata": {
        "colab": {
          "base_uri": "https://localhost:8080/",
          "height": 553
        },
        "id": "FCBJJGmdAvkA",
        "outputId": "1f9fa71e-303a-4995-ff18-4d86102924de"
      },
      "execution_count": null,
      "outputs": [
        {
          "output_type": "stream",
          "name": "stdout",
          "text": [
            "Number of strokes predicted: 1523\n",
            "Actual number of strokes: 1418\n",
            "Accuracy: 0.7753878702397743\n",
            "f1 score: 0.7834070044202651\n",
            "              precision    recall  f1-score   support\n",
            "\n",
            "           0       0.80      0.74      0.77      1418\n",
            "           1       0.76      0.81      0.78      1418\n",
            "\n",
            "    accuracy                           0.78      2836\n",
            "   macro avg       0.78      0.78      0.78      2836\n",
            "weighted avg       0.78      0.78      0.78      2836\n",
            "\n"
          ]
        },
        {
          "output_type": "display_data",
          "data": {
            "text/plain": [
              "<Figure size 432x288 with 2 Axes>"
            ],
            "image/png": "[encoded data removed]"
          },
          "metadata": {
            "needs_background": "light"
          }
        }
      ]
    },
    {
      "cell_type": "markdown",
      "source": [
        "# Creating the pipeline"
      ],
      "metadata": {
        "id": "txKCxiFwDhZG"
      }
    },
    {
      "cell_type": "markdown",
      "source": [
        "Getting the un-preprocessed test data"
      ],
      "metadata": {
        "id": "H-UR6YjXKEDG"
      }
    },
    {
      "cell_type": "code",
      "source": [
        "data=pd.read_csv('/content/drive/MyDrive/Colab Notebooks/PRML Major Project/healthcare-dataset-stroke-data.csv')\n",
        "data=data.dropna()"
      ],
      "metadata": {
        "id": "4__AKG3HjgYb"
      },
      "execution_count": null,
      "outputs": []
    },
    {
      "cell_type": "code",
      "source": [
        "_,X_test_pipe,_,y_test_pipe=train_test_split(data.drop(columns=['stroke']).to_numpy(),data['stroke'].to_numpy(),train_size=0.7,random_state=0)"
      ],
      "metadata": {
        "id": "IiX18N46ETY2"
      },
      "execution_count": null,
      "outputs": []
    },
    {
      "cell_type": "code",
      "source": [
        "lbcode_gender=LabelEncoder()\n",
        "lbcode_ever_married=LabelEncoder()\n",
        "lbcode_work=LabelEncoder()\n",
        "lbcode_residence=LabelEncoder()\n",
        "lbcode_smoking=LabelEncoder()\n",
        "\n",
        "lbcode_gender.fit(data['gender'])\n",
        "lbcode_ever_married.fit(data['ever_married'])\n",
        "lbcode_work.fit(data['work_type'])\n",
        "lbcode_residence.fit(data['Residence_type'])\n",
        "lbcode_smoking.fit(data['smoking_status'])"
      ],
      "metadata": {
        "colab": {
          "base_uri": "https://localhost:8080/"
        },
        "id": "C-SrPOKxjm-j",
        "outputId": "ad118492-84fd-4291-a011-a3937ca3da99"
      },
      "execution_count": null,
      "outputs": [
        {
          "output_type": "execute_result",
          "data": {
            "text/plain": [
              "LabelEncoder()"
            ]
          },
          "metadata": {},
          "execution_count": 267
        }
      ]
    },
    {
      "cell_type": "markdown",
      "source": [
        "Training the model on oversampled+undersampled training data. The trained model will be added to the pipeline"
      ],
      "metadata": {
        "id": "EJl-__vCKKv8"
      }
    },
    {
      "cell_type": "code",
      "source": [
        "lgr=LogisticRegression(C=0.2,penalty='l2')\n",
        "model_final=lgr.fit(X_train_resample,y_train_resample)"
      ],
      "metadata": {
        "id": "wFMZL4uWFh7V"
      },
      "execution_count": null,
      "outputs": []
    },
    {
      "cell_type": "markdown",
      "source": [
        "Defining the function which deletes id and residence features from the test data. This function is added to the pipeline using FunctionTransformer from sklearn"
      ],
      "metadata": {
        "id": "fjuC8olWKYw6"
      }
    },
    {
      "cell_type": "code",
      "source": [
        "def preprocess(X_test_pipe):\n",
        "  X_test_pipe[:,1]=lbcode_gender.transform(X_test_pipe[:,1])\n",
        "  X_test_pipe[:,5]=lbcode_ever_married.transform(X_test_pipe[:,5])\n",
        "  X_test_pipe[:,6]=lbcode_work.transform(X_test_pipe[:,6])\n",
        "  X_test_pipe[:,7]=lbcode_residence.transform(X_test_pipe[:,7])\n",
        "  X_test_pipe[:,10]=lbcode_smoking.transform(X_test_pipe[:,10])\n",
        "  X_test_pipe=np.delete(X_test_pipe,0,1)\n",
        "  X_test_pipe=np.delete(X_test_pipe,6,1)\n",
        "  return(X_test_pipe)"
      ],
      "metadata": {
        "id": "x7J-iPAqGF8l"
      },
      "execution_count": null,
      "outputs": []
    },
    {
      "cell_type": "markdown",
      "source": [
        "Creating the pipeline"
      ],
      "metadata": {
        "id": "_VbO1gFSKrfE"
      }
    },
    {
      "cell_type": "code",
      "source": [
        "from sklearn.pipeline import make_pipeline\n",
        "from sklearn.preprocessing import FunctionTransformer\n",
        "transformer = FunctionTransformer(preprocess)\n",
        "pipeline=make_pipeline(transformer,scalar,model_final)"
      ],
      "metadata": {
        "id": "eMonhZ3wDk1O"
      },
      "execution_count": null,
      "outputs": []
    },
    {
      "cell_type": "markdown",
      "source": [
        "Using the pipeline to predict on the test data"
      ],
      "metadata": {
        "id": "omZP29LeKuS0"
      }
    },
    {
      "cell_type": "code",
      "source": [
        "y_pred_pipe=pipeline.predict(X_test_pipe)"
      ],
      "metadata": {
        "id": "fHotNUDxIX-O"
      },
      "execution_count": null,
      "outputs": []
    },
    {
      "cell_type": "code",
      "source": [
        "print('Number of strokes predicted:',sum(y_pred_pipe))\n",
        "print('Actual number of strokes:',sum(y_test_pipe))\n",
        "print('Accuracy:',accuracy(y_test_pipe,y_pred_pipe))\n",
        "print('f1 score:',f1_score(y_test_pipe,y_pred_pipe))\n",
        "print(classification_report(y_test_pipe,y_pred_pipe))\n",
        "plot_confusion_matrix_heatmap(y_test_pipe,y_pred_pipe)"
      ],
      "metadata": {
        "colab": {
          "base_uri": "https://localhost:8080/",
          "height": 553
        },
        "id": "nEB_YLsPJMzy",
        "outputId": "d9c3168e-a261-4fbb-92cf-b2467096ac3f"
      },
      "execution_count": null,
      "outputs": [
        {
          "output_type": "stream",
          "name": "stdout",
          "text": [
            "Number of strokes predicted: 77\n",
            "Actual number of strokes: 55\n",
            "Accuracy: 0.93346911065852\n",
            "f1 score: 0.25757575757575757\n",
            "              precision    recall  f1-score   support\n",
            "\n",
            "           0       0.97      0.96      0.97      1418\n",
            "           1       0.22      0.31      0.26        55\n",
            "\n",
            "    accuracy                           0.93      1473\n",
            "   macro avg       0.60      0.63      0.61      1473\n",
            "weighted avg       0.94      0.93      0.94      1473\n",
            "\n"
          ]
        },
        {
          "output_type": "display_data",
          "data": {
            "text/plain": [
              "<Figure size 432x288 with 2 Axes>"
            ],
            "image/png": "[encoded data removed]"
          },
          "metadata": {
            "needs_background": "light"
          }
        }
      ]
    },
    {
      "cell_type": "markdown",
      "source": [
        "The pipeline produces the same results as the Logistic Regression model trained on oversampled+undersampled data."
      ],
      "metadata": {
        "id": "vRHWwyFhJxoT"
      }
    }
  ]
}